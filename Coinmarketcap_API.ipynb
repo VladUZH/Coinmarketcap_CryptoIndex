{
 "cells": [
  {
   "cell_type": "markdown",
   "metadata": {},
   "source": [
    "#  API Coinmarketcap\n",
    "https://coinmarketcap.com/api/"
   ]
  },
  {
   "cell_type": "code",
   "execution_count": 51,
   "metadata": {
    "collapsed": true
   },
   "outputs": [],
   "source": [
    "import requests, json, time\n",
    "from time import gmtime, strftime"
   ]
  },
  {
   "cell_type": "code",
   "execution_count": 56,
   "metadata": {
    "collapsed": true
   },
   "outputs": [],
   "source": [
    "def GetTickers(tickerId=\"\"):    \n",
    "    url = 'https://api.coinmarketcap.com/v1/ticker/'\n",
    "    if (tickerId != \"\"):\n",
    "        url += tickerId\n",
    "    r = requests.get(url)\n",
    "    return r"
   ]
  },
  {
   "cell_type": "code",
   "execution_count": 65,
   "metadata": {
    "collapsed": true
   },
   "outputs": [],
   "source": [
    "def GetMarkCapIndex():\n",
    "    # To get current state of the market:\n",
    "    jsonTickers = GetTickers().json()\n",
    "    # To find the total market cap:\n",
    "    totalValue = 0\n",
    "    for i in range(len(jsonTickers)):\n",
    "        totalValue += float(jsonTickers[i][\"market_cap_usd\"])\n",
    "    # And here we compute the index:\n",
    "    indexPrice = 0\n",
    "    for i in range(len(jsonTickers)):\n",
    "        weight = float(jsonTickers[i][\"market_cap_usd\"]) / totalValue\n",
    "        coeff = float(jsonTickers[i][\"price_usd\"]) * weight\n",
    "        indexPrice += coeff\n",
    "    return indexPrice"
   ]
  },
  {
   "cell_type": "code",
   "execution_count": 66,
   "metadata": {
    "collapsed": true
   },
   "outputs": [],
   "source": [
    "def Get24VolIndex():\n",
    "    # To get current state of the market:\n",
    "    jsonTickers = GetTickers().json()\n",
    "    # To find the total market cap:\n",
    "    totalValue = 0\n",
    "    for i in range(len(jsonTickers)):\n",
    "        totalValue += float(jsonTickers[i][\"24h_volume_usd\"])\n",
    "    # And here we compute the index:\n",
    "    indexPrice = 0\n",
    "    for i in range(len(jsonTickers)):\n",
    "        weight = float(jsonTickers[i][\"24h_volume_usd\"]) / totalValue\n",
    "        coeff = float(jsonTickers[i][\"price_usd\"]) * weight\n",
    "        indexPrice += coeff\n",
    "    return indexPrice"
   ]
  },
  {
   "cell_type": "code",
   "execution_count": null,
   "metadata": {},
   "outputs": [
    {
     "name": "stdout",
     "output_type": "stream",
     "text": [
      "2017-12-08 10:20:14      MarkCapIndex: 10403.0628678    24VolIndex: 10306.5358921\n",
      "2017-12-08 10:24:17      MarkCapIndex: 10404.0524049    24VolIndex: 10308.0222099\n",
      "2017-12-08 10:25:18      MarkCapIndex: 10503.2705366    24VolIndex: 10401.3607462\n"
     ]
    }
   ],
   "source": [
    "prevIndex = 0\n",
    "for i in range(100):\n",
    "    currentMarkCapIndex = GetMarkCapIndex()\n",
    "    if (currentMarkCapIndex != prevIndex):\n",
    "        print strftime(\"%Y-%m-%d %H:%M:%S\", gmtime()) + \"      MarkCapIndex: \" + str(currentMarkCapIndex) + \"    24VolIndex: \" + str(Get24VolIndex())\n",
    "        prevIndex = currentMarkCapIndex\n",
    "    time.sleep(10) # just pause in seconds"
   ]
  },
  {
   "cell_type": "code",
   "execution_count": null,
   "metadata": {
    "collapsed": true
   },
   "outputs": [],
   "source": []
  },
  {
   "cell_type": "code",
   "execution_count": null,
   "metadata": {
    "collapsed": true
   },
   "outputs": [],
   "source": []
  },
  {
   "cell_type": "code",
   "execution_count": null,
   "metadata": {
    "collapsed": true
   },
   "outputs": [],
   "source": []
  },
  {
   "cell_type": "code",
   "execution_count": null,
   "metadata": {
    "collapsed": true
   },
   "outputs": [],
   "source": []
  },
  {
   "cell_type": "code",
   "execution_count": null,
   "metadata": {
    "collapsed": true
   },
   "outputs": [],
   "source": []
  },
  {
   "cell_type": "code",
   "execution_count": null,
   "metadata": {
    "collapsed": true
   },
   "outputs": [],
   "source": []
  },
  {
   "cell_type": "code",
   "execution_count": null,
   "metadata": {
    "collapsed": true
   },
   "outputs": [],
   "source": []
  },
  {
   "cell_type": "code",
   "execution_count": null,
   "metadata": {
    "collapsed": true
   },
   "outputs": [],
   "source": []
  },
  {
   "cell_type": "code",
   "execution_count": null,
   "metadata": {
    "collapsed": true
   },
   "outputs": [],
   "source": []
  },
  {
   "cell_type": "code",
   "execution_count": null,
   "metadata": {
    "collapsed": true
   },
   "outputs": [],
   "source": []
  }
 ],
 "metadata": {
  "hide_input": false,
  "kernelspec": {
   "display_name": "Python 2",
   "language": "python",
   "name": "python2"
  },
  "language_info": {
   "codemirror_mode": {
    "name": "ipython",
    "version": 2
   },
   "file_extension": ".py",
   "mimetype": "text/x-python",
   "name": "python",
   "nbconvert_exporter": "python",
   "pygments_lexer": "ipython2",
   "version": "2.7.13"
  },
  "latex_envs": {
   "bibliofile": "biblio.bib",
   "cite_by": "apalike",
   "current_citInitial": 1,
   "eqLabelWithNumbers": true,
   "eqNumInitial": 0
  },
  "toc": {
   "toc_cell": false,
   "toc_number_sections": true,
   "toc_threshold": 6,
   "toc_window_display": false
  }
 },
 "nbformat": 4,
 "nbformat_minor": 2
}
